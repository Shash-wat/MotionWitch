{
 "cells": [
  {
   "cell_type": "code",
   "execution_count": 5,
   "id": "4627fd24",
   "metadata": {},
   "outputs": [],
   "source": [
    "import numpy as np\n",
    "import matplotlib.pyplot as plt\n",
    "import pandas as pd\n",
    "import cv2\n",
    "\n",
    "video_path1 = '../data/leaves.mp4'\n",
    "video_path2 = '../data/cars.mp4'"
   ]
  },
  {
   "cell_type": "markdown",
   "id": "02911710",
   "metadata": {},
   "source": [
    "#### Visualization and Analysis"
   ]
  },
  {
   "cell_type": "code",
   "execution_count": 7,
   "id": "92035684",
   "metadata": {},
   "outputs": [
    {
     "name": "stdout",
     "output_type": "stream",
     "text": [
      "   frame  center_x  center_y    area\n",
      "0      0      1441      1062   631.5\n",
      "1      0        53       961   633.5\n",
      "2      0        93       968  1088.0\n",
      "3      0       222       949   623.0\n",
      "4      0      1092       935   517.0\n"
     ]
    }
   ],
   "source": [
    "blob_data = []\n",
    "frame_count = 0\n",
    "\n",
    "cap = cv2.VideoCapture(video_path2)\n",
    "\n",
    "while cap.isOpened():\n",
    "    ret, frame = cap.read()\n",
    "    if not ret:\n",
    "        break\n",
    "\n",
    "    frame_rgb = cv2.cvtColor(frame, cv2.COLOR_BGR2RGB)\n",
    "    gray = cv2.cvtColor(frame_rgb, cv2.COLOR_RGB2GRAY)\n",
    "    blur = cv2.GaussianBlur(gray, (5, 5), 0)\n",
    "    thresh = cv2.adaptiveThreshold(blur, 255, cv2.ADAPTIVE_THRESH_MEAN_C, \n",
    "                                   cv2.THRESH_BINARY, 11, 2)\n",
    "    thresh = cv2.bitwise_not(thresh)\n",
    "\n",
    "    contours, _ = cv2.findContours(thresh, cv2.RETR_EXTERNAL, cv2.CHAIN_APPROX_SIMPLE)\n",
    "\n",
    "    MIN_AREA = 500\n",
    "    for contour in contours:\n",
    "        area = cv2.contourArea(contour)\n",
    "        if area > MIN_AREA:\n",
    "            M = cv2.moments(contour)\n",
    "            if M[\"m00\"] != 0:\n",
    "                cX = int(M[\"m10\"] / M[\"m00\"])\n",
    "                cY = int(M[\"m01\"] / M[\"m00\"])\n",
    "                blob_data.append({\n",
    "                    'frame': frame_count,\n",
    "                    'center_x': cX,\n",
    "                    'center_y': cY,\n",
    "                    'area': area\n",
    "                })\n",
    "\n",
    "    frame_count += 1\n",
    "\n",
    "cap.release()\n",
    "\n",
    "# Create DataFrame\n",
    "import pandas as pd\n",
    "df = pd.DataFrame(blob_data)\n",
    "df.to_csv('../data/CSV Files/blob_data.csv', index = False)\n",
    "# Show DataFrame\n",
    "print(df.head())\n"
   ]
  }
 ],
 "metadata": {
  "kernelspec": {
   "display_name": "venv",
   "language": "python",
   "name": "python3"
  },
  "language_info": {
   "codemirror_mode": {
    "name": "ipython",
    "version": 3
   },
   "file_extension": ".py",
   "mimetype": "text/x-python",
   "name": "python",
   "nbconvert_exporter": "python",
   "pygments_lexer": "ipython3",
   "version": "3.10.7"
  }
 },
 "nbformat": 4,
 "nbformat_minor": 5
}
